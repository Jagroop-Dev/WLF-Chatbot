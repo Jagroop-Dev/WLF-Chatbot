{
 "cells": [
  {
   "cell_type": "markdown",
   "id": "a5b31446-6b45-4ae8-bf07-dd72c8d4b1b8",
   "metadata": {},
   "source": [
    "# Downloads"
   ]
  },
  {
   "cell_type": "code",
   "execution_count": 1,
   "id": "861f8165-fbed-4e26-a79b-2554b31d6a74",
   "metadata": {},
   "outputs": [],
   "source": [
    "#!pip install sentencepiece"
   ]
  },
  {
   "cell_type": "markdown",
   "id": "9c659a5e-5b5d-4209-95f9-bb652cc17159",
   "metadata": {},
   "source": [
    "# Imports"
   ]
  },
  {
   "cell_type": "code",
   "execution_count": 2,
   "id": "9ca7c0d3-f465-4737-9ca2-a4d0e0fcefc8",
   "metadata": {},
   "outputs": [
    {
     "data": {
      "text/plain": [
       "True"
      ]
     },
     "execution_count": 2,
     "metadata": {},
     "output_type": "execute_result"
    }
   ],
   "source": [
    "import os\n",
    "from langchain_huggingface import HuggingFaceEndpoint, ChatHuggingFace \n",
    "from langchain_huggingface import HuggingFaceEmbeddings\n",
    "from langchain_core.prompts import PromptTemplate\n",
    "from langchain_community.vectorstores import FAISS\n",
    "from langchain.chains import RetrievalQA\n",
    "\n",
    "from dotenv import load_dotenv, find_dotenv\n",
    "load_dotenv(find_dotenv())"
   ]
  },
  {
   "cell_type": "markdown",
   "id": "8c85cc1d-4814-41f3-8a84-8db05d24e314",
   "metadata": {},
   "source": [
    "# Setting up LLM"
   ]
  },
  {
   "cell_type": "markdown",
   "id": "1c7c0ca1-b96e-46d1-ab35-85b732eca26a",
   "metadata": {},
   "source": [
    "## Importing the .Env variable"
   ]
  },
  {
   "cell_type": "code",
   "execution_count": 3,
   "id": "0ffe69a4-44b4-40ac-b229-cb1ddcf46aa4",
   "metadata": {},
   "outputs": [],
   "source": [
    "HF_TOKEN=os.environ.get('HF_TOKEN')\n",
    "huggingface_repo_id=\"mistralai/Mistral-7B-Instruct-v0.3\""
   ]
  },
  {
   "cell_type": "markdown",
   "id": "836ca4c5-11fe-4d68-aa93-2a0ae51a96ee",
   "metadata": {},
   "source": [
    "keeping the `temperature` low makes is accurate and very concise in the answers"
   ]
  },
  {
   "cell_type": "code",
   "execution_count": 4,
   "id": "1034f25c-7668-4901-96fa-20eb2d9c4a41",
   "metadata": {},
   "outputs": [],
   "source": [
    "def load_llm(huggingface_repo_id):\n",
    "    llm = HuggingFaceEndpoint(  \n",
    "        repo_id=huggingface_repo_id, \n",
    "        temperature=0.5,\n",
    "        huggingfacehub_api_token=HF_TOKEN,\n",
    "        task='conversational'\n",
    "    )\n",
    "    return llm\n"
   ]
  },
  {
   "cell_type": "markdown",
   "id": "4fda8eb9-72e8-428b-b508-70f6564881a0",
   "metadata": {},
   "source": [
    "# Connecting to LLM and creating a chain"
   ]
  },
  {
   "cell_type": "markdown",
   "id": "c442cd9c-1434-47fd-a207-5a8ccf17e86d",
   "metadata": {},
   "source": [
    "## Setting the prompt template"
   ]
  },
  {
   "cell_type": "code",
   "execution_count": 5,
   "id": "fba9f61d-5ec3-406d-a390-183616a61946",
   "metadata": {},
   "outputs": [],
   "source": [
    "custom_prompt_template = \"\"\"\n",
    "You are a The Last of Us Part 2 expert assistant. Use the provided context to answer the user's question accurately and comprehensively.\n",
    "\n",
    "IMPORTANT GUIDELINES:\n",
    "- Answer directly and concisely - no small talk or greetings\n",
    "- If the context contains spoiler warnings (⚠️), include them in your response before revealing spoilers\n",
    "- When relevant, include image paths exactly as shown in the context (e.g., \"Image: ../Data/Images/...\")\n",
    "- For counting questions (how many weapons, characters, etc.), provide specific numbers and breakdowns\n",
    "- If you don't know the answer from the given context, state \"I don't have that information in the provided context\"\n",
    "- Stick strictly to the provided context - do not add external knowledge\n",
    "- For weapon/item locations, include the specific chapter and area mentioned\n",
    "- For safe codes, provide both the code and the method to find it\n",
    "\n",
    "Context: {context}\n",
    "\n",
    "Question: {question}\n",
    "\n",
    "Answer:\"\"\""
   ]
  },
  {
   "cell_type": "code",
   "execution_count": 6,
   "id": "d984018a-7bff-450e-8ccd-53e7dd3a9981",
   "metadata": {},
   "outputs": [],
   "source": [
    "def set_custom_prompt(custom_prompt_template):\n",
    "    prompt= PromptTemplate(template=custom_prompt_template,\n",
    "                          input_variables=[\"context\", \"question\"])\n",
    "    return prompt"
   ]
  },
  {
   "cell_type": "markdown",
   "id": "acb050c9-0d81-4550-b39e-4bde0984356b",
   "metadata": {},
   "source": [
    "## Loading the FAISS Database"
   ]
  },
  {
   "cell_type": "code",
   "execution_count": 7,
   "id": "4812cc73-e5d4-4100-a534-68cec5f77c76",
   "metadata": {},
   "outputs": [],
   "source": [
    "embedding_model= HuggingFaceEmbeddings(model_name=\"sentence-transformers/all-MiniLM-L12-v2\")"
   ]
  },
  {
   "cell_type": "code",
   "execution_count": 8,
   "id": "04c64dcf-0bcd-4c1e-840c-38ab2bfa657b",
   "metadata": {},
   "outputs": [],
   "source": [
    "FAISS_DB_PATH = 'FAISS Database/'"
   ]
  },
  {
   "cell_type": "markdown",
   "id": "9b846488-e3e6-4482-80a7-0a0677002e77",
   "metadata": {},
   "source": [
    "Set the `allow_dangerous_deserialization` parameter to `True` becuase we trust the `FAISS` database\n",
    "and its contents inside it because we made it"
   ]
  },
  {
   "cell_type": "code",
   "execution_count": 9,
   "id": "1f918e91-e520-4f70-89da-cd6803758b76",
   "metadata": {},
   "outputs": [],
   "source": [
    "db = FAISS.load_local(FAISS_DB_PATH,\n",
    "                      embedding_model,\n",
    "                      allow_dangerous_deserialization=True)"
   ]
  },
  {
   "cell_type": "markdown",
   "id": "93782288-67d1-4a58-8f25-6ada73131153",
   "metadata": {},
   "source": [
    "## Creating the QA Chain"
   ]
  },
  {
   "cell_type": "code",
   "execution_count": 10,
   "id": "71aa226b-368b-4046-9a87-ab480b617bdc",
   "metadata": {},
   "outputs": [],
   "source": [
    "chat_model = ChatHuggingFace(llm=load_llm(huggingface_repo_id))\n",
    "qa_chain=RetrievalQA.from_chain_type(\n",
    "    llm=chat_model,\n",
    "    chain_type=\"stuff\",\n",
    "    retriever=db.as_retriever(search_kwargs={'k':3}),\n",
    "    return_source_documents=True,\n",
    "    chain_type_kwargs={'prompt':set_custom_prompt(custom_prompt_template)}\n",
    ")"
   ]
  },
  {
   "cell_type": "markdown",
   "id": "5932dee6-9cb7-40a1-828e-ad0e00b64a63",
   "metadata": {},
   "source": [
    "## Creating user input"
   ]
  },
  {
   "cell_type": "code",
   "execution_count": 11,
   "id": "008e3274-b23c-47a4-86b4-3119a044685a",
   "metadata": {},
   "outputs": [
    {
     "name": "stdin",
     "output_type": "stream",
     "text": [
      "Ask WLF  how many weapons are there in the game?\n"
     ]
    },
    {
     "name": "stdout",
     "output_type": "stream",
     "text": [
      "Result :   There are 26 total weapons in The Last of Us Part 2: 4 handguns, 8 long guns, 6 throwables, 4 melee weapons, and 1 recovery item (Health Kit).\n",
      "Source Documents:  [Document(id='e8ab59d8-2fbb-44c4-b5dd-f176ad73eaed', metadata={'producer': 'Skia/PDF m141 Google Docs Renderer', 'creator': 'PyPDF', 'creationdate': '', 'title': 'More Questions and Answers The last of us part 2', 'source': '..\\\\Cleaned Data\\\\More Questions and Answers The last of us part 2.pdf', 'total_pages': 8, 'page': 1, 'page_label': '2'}, page_content='found\\n \\nor\\n \\npicked\\n \\nup\\n \\nduring\\n \\ngameplay.\\n  Q:  How  many  melee  weapons  can  you  find?    A:  There  are  4  dedicated  melee  weapons:  Machete,  Hammer,  Switchblade,  and  Shiv.   Q:  How  many  different  locations  does  the  game  visit?    A:  The  game  visits  4  major  geographic  locations:  Jackson  (Wyoming),  Seattle  (Washington),  \\nSanta\\n \\nBarbara\\n \\n(California),\\n \\nand\\n \\nvarious\\n \\nsmaller\\n \\nlocations\\n \\nincluding\\n \\nfarms,\\n \\nforests,\\n \\nand\\n \\nflashback\\n \\nlocations.'), Document(id='0aeef5ad-f0a0-454e-9fd1-27b957e5f7c8', metadata={'producer': 'Skia/PDF m141 Google Docs Renderer', 'creator': 'PyPDF', 'creationdate': '', 'title': 'More Questions and Answers The last of us part 2', 'source': '..\\\\Cleaned Data\\\\More Questions and Answers The last of us part 2.pdf', 'total_pages': 8, 'page': 0, 'page_label': '1'}, page_content='Silenced\\n \\nSubmachine\\n \\nGun),\\n \\n6\\n \\nthrowables\\n \\n(Bottle,\\n \\nBrick,\\n \\nMolotov,\\n \\nStun\\n \\nBomb,\\n \\nTrap\\n \\nMine,\\n \\nPipe\\n \\nBomb),\\n \\n4\\n \\nmelee\\n \\nweapons\\n \\n(Machete,\\n \\nHammer,\\n \\nSwitchblade,\\n \\nShiv),\\n \\nand\\n \\n1\\n \\nrecovery\\n \\nitem\\n \\n(Health\\n \\nKit).\\n  Q:  How  many  weapon  categories  are  there?    A:  There  are  5  weapon  categories:  Handguns  (4  weapons),  Long  Guns  (8  weapons),  \\nThrowables\\n \\n(6\\n \\nweapons),\\n \\nMelee/Other\\n \\n(4\\n \\nweapons),\\n \\nand\\n \\nRecovery\\n \\n(1\\n \\nweapon).'), Document(id='7ebc7437-bc3d-40aa-bfce-b5292f6cab4d', metadata={'producer': 'Skia/PDF m136', 'creator': 'Mozilla/5.0 (Windows NT 10.0; Win64; x64) AppleWebKit/537.36 (KHTML, like Gecko) Chrome/136.0.0.0 Safari/537.36', 'creationdate': '2025-08-18T22:40:48+00:00', 'title': 'The Last of Us Part 2 - Complete Game Guide', 'moddate': '2025-08-18T23:52:16+01:00', 'source': '..\\\\Cleaned Data\\\\The Last of Us Part 2Guide.pdf', 'total_pages': 26, 'page': 22, 'page_label': '23'}, page_content='perspectives across different days in Seattle, with additional chapters in Jackson, The Park (flashback), The\\nFarm, and Santa Barbara.\\nQ: How many weapons are available in the game?\\nA: There are 26 total weapons in The Last of Us Part 2: 4 handguns, 8 long guns, 6 throwables, 7 melee\\nweapons, and 1 recovery item (Health Kit).\\nQ: How many enemy types are there?\\nA: There are 10 main enemy types: Runners, Stalkers, Clickers, Bloaters, Shamblers, The Rat King, WLF')]\n"
     ]
    }
   ],
   "source": [
    "user_query=input(\"Ask WLF \")\n",
    "response=qa_chain.invoke({'query': user_query})\n",
    "print(\"Result : \", response[\"result\"])\n",
    "print(\"Source Documents: \", response[\"source_documents\"])"
   ]
  },
  {
   "cell_type": "code",
   "execution_count": null,
   "id": "55e87c1a-3b1c-4233-9f17-376904eb2f73",
   "metadata": {},
   "outputs": [],
   "source": []
  }
 ],
 "metadata": {
  "kernelspec": {
   "display_name": "Python 3 (ipykernel)",
   "language": "python",
   "name": "python3"
  },
  "language_info": {
   "codemirror_mode": {
    "name": "ipython",
    "version": 3
   },
   "file_extension": ".py",
   "mimetype": "text/x-python",
   "name": "python",
   "nbconvert_exporter": "python",
   "pygments_lexer": "ipython3",
   "version": "3.12.7"
  }
 },
 "nbformat": 4,
 "nbformat_minor": 5
}
